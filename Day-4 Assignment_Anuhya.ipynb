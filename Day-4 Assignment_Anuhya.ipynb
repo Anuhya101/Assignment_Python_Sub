{
 "cells": [
  {
   "cell_type": "markdown",
   "id": "9e9de267",
   "metadata": {},
   "source": [
    "Q1.Python program to print Highest Common Factor (HCF) of two numbers Example : Take values according to you \n"
   ]
  },
  {
   "cell_type": "code",
   "execution_count": 7,
   "id": "ebf90f41",
   "metadata": {},
   "outputs": [
    {
     "name": "stdout",
     "output_type": "stream",
     "text": [
      "The H.C.F. is 9\n"
     ]
    }
   ],
   "source": [
    "def find_hcf(x, y):\n",
    "\n",
    "    if x > y:\n",
    "        smaller = y\n",
    "    else:\n",
    "        smaller = x\n",
    "    for i in range(1, smaller+1):\n",
    "        if((x % i == 0) and (y % i == 0)):\n",
    "            hcf = i \n",
    "    return hcf\n",
    "\n",
    "num1 = 72 \n",
    "num2 = 27\n",
    "\n",
    "print(\"The H.C.F. is\", find_hcf(num1, num2))"
   ]
  },
  {
   "cell_type": "markdown",
   "id": "8deca8c0",
   "metadata": {},
   "source": [
    "Q2.What will be the output of the following Python code? \n"
   ]
  },
  {
   "cell_type": "code",
   "execution_count": 9,
   "id": "65514449",
   "metadata": {},
   "outputs": [
    {
     "name": "stdout",
     "output_type": "stream",
     "text": [
      "0\n"
     ]
    }
   ],
   "source": [
    "i=0 \n",
    "def change(i): \n",
    " i=i+1 \n",
    " return i \n",
    "change(1) \n",
    "print(i) \n"
   ]
  },
  {
   "cell_type": "markdown",
   "id": "24f40883",
   "metadata": {},
   "source": [
    "option c"
   ]
  },
  {
   "cell_type": "markdown",
   "id": "1cda9f36",
   "metadata": {},
   "source": [
    "Q3.What will be the output of the following Python code? \n"
   ]
  },
  {
   "cell_type": "code",
   "execution_count": 12,
   "id": "305630da",
   "metadata": {},
   "outputs": [
    {
     "name": "stdout",
     "output_type": "stream",
     "text": [
      "4\n"
     ]
    }
   ],
   "source": [
    "def a(b): \n",
    "  b = b + [5] \n",
    "c = [1, 2, 3, 4] \n",
    "a(c) \n",
    "print(len(c)) \n"
   ]
  },
  {
   "cell_type": "markdown",
   "id": "47043cad",
   "metadata": {},
   "source": [
    "Q4.What will be the output of the following Python code? \n"
   ]
  },
  {
   "cell_type": "code",
   "execution_count": 14,
   "id": "d975c7c0",
   "metadata": {},
   "outputs": [
    {
     "name": "stdout",
     "output_type": "stream",
     "text": [
      "10\n",
      "56\n"
     ]
    }
   ],
   "source": [
    "a=10 \n",
    "b=20 \n",
    "def change(): \n",
    " global b \n",
    " a=45 \n",
    " b=56 \n",
    "change() \n",
    "print(a) \n",
    "print(b) \n"
   ]
  },
  {
   "cell_type": "markdown",
   "id": "5301b3d7",
   "metadata": {},
   "source": [
    "global variable is undergoing change function option - a"
   ]
  },
  {
   "cell_type": "markdown",
   "id": "45283141",
   "metadata": {},
   "source": [
    "Q5. What will be the output of the following Python code? \n"
   ]
  },
  {
   "cell_type": "code",
   "execution_count": 15,
   "id": "7c0ee0e9",
   "metadata": {},
   "outputs": [
    {
     "name": "stdout",
     "output_type": "stream",
     "text": [
      "3 2\n"
     ]
    }
   ],
   "source": [
    "def change(i = 1, j = 2): \n",
    " i = i + j \n",
    " j = j + 1 \n",
    " print(i, j) \n",
    "change(j = 1, i = 2) \n"
   ]
  },
  {
   "cell_type": "markdown",
   "id": "b6da8217",
   "metadata": {},
   "source": [
    "so as int is mutable when we call change function it changes the values of i and j so we get 3,2 "
   ]
  }
 ],
 "metadata": {
  "kernelspec": {
   "display_name": "Python 3",
   "language": "python",
   "name": "python3"
  },
  "language_info": {
   "codemirror_mode": {
    "name": "ipython",
    "version": 3
   },
   "file_extension": ".py",
   "mimetype": "text/x-python",
   "name": "python",
   "nbconvert_exporter": "python",
   "pygments_lexer": "ipython3",
   "version": "3.8.8"
  }
 },
 "nbformat": 4,
 "nbformat_minor": 5
}
