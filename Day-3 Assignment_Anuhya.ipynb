{
 "cells": [
  {
   "cell_type": "markdown",
   "id": "e1eafc90",
   "metadata": {},
   "source": [
    "1. Find the data type of a if a=9"
   ]
  },
  {
   "cell_type": "code",
   "execution_count": 3,
   "id": "4a4b64c6",
   "metadata": {},
   "outputs": [
    {
     "name": "stdout",
     "output_type": "stream",
     "text": [
      "<class 'int'>\n"
     ]
    }
   ],
   "source": [
    "a=9 \n",
    "print(type(a))"
   ]
  },
  {
   "cell_type": "markdown",
   "id": "99a094a7",
   "metadata": {},
   "source": [
    "2. Find the data type of a if a=9"
   ]
  },
  {
   "cell_type": "code",
   "execution_count": 4,
   "id": "fc937716",
   "metadata": {},
   "outputs": [
    {
     "name": "stdout",
     "output_type": "stream",
     "text": [
      "<class 'int'>\n"
     ]
    }
   ],
   "source": [
    "a=9\n",
    "print(type(a))"
   ]
  },
  {
   "cell_type": "markdown",
   "id": "09f833f2",
   "metadata": {},
   "source": [
    "3. Find the data type of a if a='9.'"
   ]
  },
  {
   "cell_type": "code",
   "execution_count": 5,
   "id": "1b6142ad",
   "metadata": {},
   "outputs": [
    {
     "name": "stdout",
     "output_type": "stream",
     "text": [
      "<class 'str'>\n"
     ]
    }
   ],
   "source": [
    "a='9.'\n",
    "print(type(a))"
   ]
  },
  {
   "cell_type": "markdown",
   "id": "c772ae98",
   "metadata": {},
   "source": [
    "4. Find the data type of a if a=(9)"
   ]
  },
  {
   "cell_type": "code",
   "execution_count": 9,
   "id": "b2d4026b",
   "metadata": {},
   "outputs": [
    {
     "name": "stdout",
     "output_type": "stream",
     "text": [
      "<class 'int'>\n"
     ]
    }
   ],
   "source": [
    "a=(9)\n",
    "print(type(a))\n",
    "#one element tuple error can be rectified by trailing comma"
   ]
  },
  {
   "cell_type": "code",
   "execution_count": 12,
   "id": "2e42103d",
   "metadata": {},
   "outputs": [
    {
     "name": "stdout",
     "output_type": "stream",
     "text": [
      "<class 'tuple'>\n"
     ]
    }
   ],
   "source": [
    "a=(9,)\n",
    "print(type(a))"
   ]
  },
  {
   "cell_type": "markdown",
   "id": "5a8a7432",
   "metadata": {},
   "source": [
    "5. Find the data type of a if a=False"
   ]
  },
  {
   "cell_type": "code",
   "execution_count": 11,
   "id": "1a729590",
   "metadata": {},
   "outputs": [
    {
     "name": "stdout",
     "output_type": "stream",
     "text": [
      "<class 'bool'>\n"
     ]
    }
   ],
   "source": [
    "a= False\n",
    "print(type(a))"
   ]
  },
  {
   "cell_type": "markdown",
   "id": "eb979f9e",
   "metadata": {},
   "source": [
    "6. Find the data type of a if a= [1,2,3]"
   ]
  },
  {
   "cell_type": "code",
   "execution_count": 13,
   "id": "e95653fd",
   "metadata": {},
   "outputs": [
    {
     "name": "stdout",
     "output_type": "stream",
     "text": [
      "<class 'list'>\n"
     ]
    }
   ],
   "source": [
    "a=[1,2,3]\n",
    "print(type(a))"
   ]
  },
  {
   "cell_type": "markdown",
   "id": "9b5e44b6",
   "metadata": {},
   "source": [
    "7. Find the data type of a if a= (1,2,3)"
   ]
  },
  {
   "cell_type": "code",
   "execution_count": 14,
   "id": "daafe79c",
   "metadata": {},
   "outputs": [
    {
     "name": "stdout",
     "output_type": "stream",
     "text": [
      "<class 'tuple'>\n"
     ]
    }
   ],
   "source": [
    "a=(1,2,3)\n",
    "print(type(a))"
   ]
  },
  {
   "cell_type": "markdown",
   "id": "c4c21c48",
   "metadata": {},
   "source": [
    "8. Find the data type of a if a= {'key': 9}"
   ]
  },
  {
   "cell_type": "code",
   "execution_count": 17,
   "id": "97bf9982",
   "metadata": {},
   "outputs": [
    {
     "name": "stdout",
     "output_type": "stream",
     "text": [
      "<class 'dict'>\n"
     ]
    }
   ],
   "source": [
    "a= {'key': 9}\n",
    "print(type(a))"
   ]
  },
  {
   "cell_type": "markdown",
   "id": "add1aa9e",
   "metadata": {},
   "source": [
    "9. Find the data type of a if a=1 + 9j"
   ]
  },
  {
   "cell_type": "code",
   "execution_count": 18,
   "id": "ba4606e2",
   "metadata": {},
   "outputs": [
    {
     "name": "stdout",
     "output_type": "stream",
     "text": [
      "<class 'complex'>\n"
     ]
    }
   ],
   "source": [
    "a=1 + 9j\n",
    "print(type(a))"
   ]
  },
  {
   "cell_type": "markdown",
   "id": "9c4cf3e2",
   "metadata": {},
   "source": [
    "10. Set a=1 and b=2. What data type is a/b?"
   ]
  },
  {
   "cell_type": "code",
   "execution_count": 21,
   "id": "5c961c42",
   "metadata": {},
   "outputs": [
    {
     "name": "stdout",
     "output_type": "stream",
     "text": [
      "<class 'float'>\n"
     ]
    }
   ],
   "source": [
    "a=1\n",
    "b=2\n",
    "#s=a/b\n",
    "print(type(a/b))"
   ]
  },
  {
   "cell_type": "markdown",
   "id": "622282a8",
   "metadata": {},
   "source": [
    "11. Create a dictionary numbers = {'one':1, 'two':2, 'three':3 }. Pull out the number '2' by calling the key 'two'"
   ]
  },
  {
   "cell_type": "code",
   "execution_count": 28,
   "id": "099fb341",
   "metadata": {},
   "outputs": [
    {
     "name": "stdout",
     "output_type": "stream",
     "text": [
      "2\n"
     ]
    }
   ],
   "source": [
    "new_dict= {'one':1, 'two':2, 'three':3 }\n",
    "print(new_dict['two'])"
   ]
  },
  {
   "cell_type": "markdown",
   "id": "14403dc2",
   "metadata": {},
   "source": [
    "12. Create a tuple with the numbers 8,9 and 10 ?"
   ]
  },
  {
   "cell_type": "code",
   "execution_count": 34,
   "id": "c1d698ff",
   "metadata": {},
   "outputs": [
    {
     "name": "stdout",
     "output_type": "stream",
     "text": [
      "<class 'tuple'>\n",
      "8\n",
      "9\n",
      "10\n",
      "(8, 9)\n",
      "(8, 9, 10)\n",
      "(9, 10)\n"
     ]
    }
   ],
   "source": [
    "s=(8,9,10)\n",
    "print(type(s))\n",
    "print(s[0])\n",
    "print(s[1])\n",
    "print(s[2])\n",
    "print(s[0:2])\n",
    "print(s[0:3])\n",
    "print(s[1:3])"
   ]
  },
  {
   "cell_type": "markdown",
   "id": "8e5a5b68",
   "metadata": {},
   "source": [
    "13. Run the following lines of code and explain the error in your own words.Then rewrite the lines of code to run error free:\n",
    "d={one:1,two:2,three:3} d[one]"
   ]
  },
  {
   "cell_type": "code",
   "execution_count": 37,
   "id": "3d682189",
   "metadata": {
    "scrolled": true
   },
   "outputs": [
    {
     "ename": "NameError",
     "evalue": "name 'one' is not defined",
     "output_type": "error",
     "traceback": [
      "\u001b[0;31m---------------------------------------------------------------------------\u001b[0m",
      "\u001b[0;31mNameError\u001b[0m                                 Traceback (most recent call last)",
      "\u001b[0;32m<ipython-input-37-5972ba08f73f>\u001b[0m in \u001b[0;36m<module>\u001b[0;34m\u001b[0m\n\u001b[0;32m----> 1\u001b[0;31m \u001b[0md\u001b[0m\u001b[0;34m=\u001b[0m\u001b[0;34m{\u001b[0m\u001b[0mone\u001b[0m\u001b[0;34m:\u001b[0m\u001b[0;36m1\u001b[0m\u001b[0;34m,\u001b[0m\u001b[0mtwo\u001b[0m\u001b[0;34m:\u001b[0m\u001b[0;36m2\u001b[0m\u001b[0;34m,\u001b[0m\u001b[0mthree\u001b[0m\u001b[0;34m:\u001b[0m\u001b[0;36m3\u001b[0m\u001b[0;34m}\u001b[0m\u001b[0;34m\u001b[0m\u001b[0;34m\u001b[0m\u001b[0m\n\u001b[0m\u001b[1;32m      2\u001b[0m \u001b[0md\u001b[0m\u001b[0;34m[\u001b[0m\u001b[0mone\u001b[0m\u001b[0;34m]\u001b[0m\u001b[0;34m\u001b[0m\u001b[0;34m\u001b[0m\u001b[0m\n",
      "\u001b[0;31mNameError\u001b[0m: name 'one' is not defined"
     ]
    }
   ],
   "source": [
    "d={one:1,two:2,three:3} \n",
    "d[one]"
   ]
  },
  {
   "cell_type": "markdown",
   "id": "13bac55d",
   "metadata": {},
   "source": [
    "The syntax is wrong the keys in the dictionary must be enclosed in single inverted commas and also while calling the element it must be enclosed in single inverted commas. To, solve the error the following changes must be made."
   ]
  },
  {
   "cell_type": "code",
   "execution_count": 40,
   "id": "e77b8ff8",
   "metadata": {
    "scrolled": true
   },
   "outputs": [
    {
     "data": {
      "text/plain": [
       "1"
      ]
     },
     "execution_count": 40,
     "metadata": {},
     "output_type": "execute_result"
    }
   ],
   "source": [
    "d={'one':1,'two':2,'three':3} \n",
    "d['one']"
   ]
  },
  {
   "cell_type": "markdown",
   "id": "aecacd54",
   "metadata": {},
   "source": [
    "14. Run the following lines of code and explain the error in your own words.Then rewrite the lines of code to run error free: f= false not f"
   ]
  },
  {
   "cell_type": "code",
   "execution_count": 49,
   "id": "5b3a3f03",
   "metadata": {},
   "outputs": [
    {
     "ename": "SyntaxError",
     "evalue": "invalid syntax (<ipython-input-49-0786a17a3118>, line 1)",
     "output_type": "error",
     "traceback": [
      "\u001b[0;36m  File \u001b[0;32m\"<ipython-input-49-0786a17a3118>\"\u001b[0;36m, line \u001b[0;32m1\u001b[0m\n\u001b[0;31m    f= false not f\u001b[0m\n\u001b[0m                 ^\u001b[0m\n\u001b[0;31mSyntaxError\u001b[0m\u001b[0;31m:\u001b[0m invalid syntax\n"
     ]
    }
   ],
   "source": [
    "f= false not f\n"
   ]
  },
  {
   "cell_type": "markdown",
   "id": "8191a5a8",
   "metadata": {},
   "source": [
    "invalid syntax as a variable cannot have values with spaces and the variable must be a data type. The error can be rectified by changing the variable value to a string."
   ]
  },
  {
   "cell_type": "code",
   "execution_count": 51,
   "id": "41a1ffc7",
   "metadata": {},
   "outputs": [
    {
     "name": "stdout",
     "output_type": "stream",
     "text": [
      "false not f\n",
      "<class 'str'>\n"
     ]
    }
   ],
   "source": [
    "f=\"false not f\"\n",
    "print(f)\n",
    "print(type(f))"
   ]
  },
  {
   "cell_type": "markdown",
   "id": "c21633d5",
   "metadata": {},
   "source": [
    "15. Run the following lines of code and explain the error in your own words.Then rewrite the lines of code to run error free: lst=[1,3,5] lst[3]"
   ]
  },
  {
   "cell_type": "code",
   "execution_count": 52,
   "id": "29adba27",
   "metadata": {},
   "outputs": [
    {
     "ename": "IndexError",
     "evalue": "list index out of range",
     "output_type": "error",
     "traceback": [
      "\u001b[0;31m---------------------------------------------------------------------------\u001b[0m",
      "\u001b[0;31mIndexError\u001b[0m                                Traceback (most recent call last)",
      "\u001b[0;32m<ipython-input-52-316bab0bfa70>\u001b[0m in \u001b[0;36m<module>\u001b[0;34m\u001b[0m\n\u001b[1;32m      1\u001b[0m \u001b[0mlst\u001b[0m\u001b[0;34m=\u001b[0m\u001b[0;34m[\u001b[0m\u001b[0;36m1\u001b[0m\u001b[0;34m,\u001b[0m\u001b[0;36m3\u001b[0m\u001b[0;34m,\u001b[0m\u001b[0;36m5\u001b[0m\u001b[0;34m]\u001b[0m\u001b[0;34m\u001b[0m\u001b[0;34m\u001b[0m\u001b[0m\n\u001b[0;32m----> 2\u001b[0;31m \u001b[0mlst\u001b[0m\u001b[0;34m[\u001b[0m\u001b[0;36m3\u001b[0m\u001b[0;34m]\u001b[0m\u001b[0;34m\u001b[0m\u001b[0;34m\u001b[0m\u001b[0m\n\u001b[0m",
      "\u001b[0;31mIndexError\u001b[0m: list index out of range"
     ]
    }
   ],
   "source": [
    "lst=[1,3,5] \n",
    "lst[3]"
   ]
  },
  {
   "cell_type": "markdown",
   "id": "6018be74",
   "metadata": {},
   "source": [
    "The list is out of range which means the total number of items in the list are less than the index range given. The indexing in python starts from 0 so according to that 0 index is 1, 1 index is 3 and 2 index is 5. To make the code error free we need to make the following changes"
   ]
  },
  {
   "cell_type": "code",
   "execution_count": 56,
   "id": "beddb559",
   "metadata": {},
   "outputs": [
    {
     "data": {
      "text/plain": [
       "2"
      ]
     },
     "execution_count": 56,
     "metadata": {},
     "output_type": "execute_result"
    }
   ],
   "source": [
    "lst=[1,3,5,2] \n",
    "lst[3]"
   ]
  },
  {
   "cell_type": "code",
   "execution_count": 64,
   "id": "8f44eccb",
   "metadata": {},
   "outputs": [
    {
     "name": "stdout",
     "output_type": "stream",
     "text": [
      "[1, 3]\n",
      "[1]\n"
     ]
    }
   ],
   "source": [
    "lst=[1,3,5]\n",
    "print(lst[0:2])\n",
    "print(lst[0:1])"
   ]
  }
 ],
 "metadata": {
  "kernelspec": {
   "display_name": "Python 3",
   "language": "python",
   "name": "python3"
  },
  "language_info": {
   "codemirror_mode": {
    "name": "ipython",
    "version": 3
   },
   "file_extension": ".py",
   "mimetype": "text/x-python",
   "name": "python",
   "nbconvert_exporter": "python",
   "pygments_lexer": "ipython3",
   "version": "3.8.8"
  }
 },
 "nbformat": 4,
 "nbformat_minor": 5
}
