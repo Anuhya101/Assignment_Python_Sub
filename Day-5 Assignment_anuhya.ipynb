{
 "cells": [
  {
   "cell_type": "code",
   "execution_count": 48,
   "id": "eb62f2de",
   "metadata": {},
   "outputs": [],
   "source": [
    "class Account:\n",
    "    def __init__(self, owner, balance=0):\n",
    "        self.owner = owner\n",
    "        self.balance = balance\n",
    "    def __str__(self):\n",
    "        return \"Account owner: Anuhya \\nAccount balance: 100\"\n",
    "    def deposit(self, dep_amt):\n",
    "        self.balance += dep_amt\n",
    "        print(\"Deposit Accepted\")\n",
    "    def withdraw(self, wd_amt):\n",
    "        try:\n",
    "            if self.balance >= wd_amt:\n",
    "                self.balance -= wd_amt\n",
    "                print(\"Withdrawl accepted\")\n",
    "            else:\n",
    "                print(\"Funds unavailable\")\n",
    "        except ValueError:\n",
    "            print(\"valueerror for fund\")\n",
    "        \n",
    "        "
   ]
  },
  {
   "cell_type": "code",
   "execution_count": 49,
   "id": "f847e589",
   "metadata": {},
   "outputs": [],
   "source": [
    "# 1. Instantiate the class\n",
    "_init_ =Account('Anuhya',100)"
   ]
  },
  {
   "cell_type": "code",
   "execution_count": 50,
   "id": "80f6e2ee",
   "metadata": {},
   "outputs": [
    {
     "name": "stdout",
     "output_type": "stream",
     "text": [
      "Account owner: Anuhya \n",
      "Account balance: 100\n"
     ]
    }
   ],
   "source": [
    "# 2. Print the object\n",
    "print(_init_)"
   ]
  },
  {
   "cell_type": "code",
   "execution_count": 51,
   "id": "1f704ffd",
   "metadata": {},
   "outputs": [
    {
     "data": {
      "text/plain": [
       "'Anuhya'"
      ]
     },
     "execution_count": 51,
     "metadata": {},
     "output_type": "execute_result"
    }
   ],
   "source": [
    "# 3. Show the account owner attribute\n",
    "_init_.owner"
   ]
  },
  {
   "cell_type": "code",
   "execution_count": 52,
   "id": "8ae5e117",
   "metadata": {},
   "outputs": [
    {
     "data": {
      "text/plain": [
       "100"
      ]
     },
     "execution_count": 52,
     "metadata": {},
     "output_type": "execute_result"
    }
   ],
   "source": [
    "# 4. Show the account balance attribute\n",
    "_init_.balance"
   ]
  },
  {
   "cell_type": "code",
   "execution_count": 53,
   "id": "0022c4d0",
   "metadata": {},
   "outputs": [
    {
     "name": "stdout",
     "output_type": "stream",
     "text": [
      "Deposit Accepted\n"
     ]
    }
   ],
   "source": [
    "# 5. Make a series of deposits and withdrawals\n",
    "_init_.deposit(450)"
   ]
  },
  {
   "cell_type": "code",
   "execution_count": 54,
   "id": "ec27ffaf",
   "metadata": {},
   "outputs": [
    {
     "data": {
      "text/plain": [
       "550"
      ]
     },
     "execution_count": 54,
     "metadata": {},
     "output_type": "execute_result"
    }
   ],
   "source": [
    "_init_.balance"
   ]
  },
  {
   "cell_type": "code",
   "execution_count": 55,
   "id": "e931467f",
   "metadata": {},
   "outputs": [
    {
     "name": "stdout",
     "output_type": "stream",
     "text": [
      "Withdrawl accepted\n"
     ]
    }
   ],
   "source": [
    "_init_.withdraw(98)"
   ]
  },
  {
   "cell_type": "code",
   "execution_count": 56,
   "id": "273f1024",
   "metadata": {},
   "outputs": [
    {
     "data": {
      "text/plain": [
       "452"
      ]
     },
     "execution_count": 56,
     "metadata": {},
     "output_type": "execute_result"
    }
   ],
   "source": [
    "_init_.balance"
   ]
  },
  {
   "cell_type": "code",
   "execution_count": 57,
   "id": "96736528",
   "metadata": {},
   "outputs": [
    {
     "name": "stdout",
     "output_type": "stream",
     "text": [
      "Funds unavailable\n"
     ]
    }
   ],
   "source": [
    "# 6. Make a withdrawal that exceeds the available balance\n",
    "_init_.withdraw(1001)"
   ]
  }
 ],
 "metadata": {
  "kernelspec": {
   "display_name": "Python 3",
   "language": "python",
   "name": "python3"
  },
  "language_info": {
   "codemirror_mode": {
    "name": "ipython",
    "version": 3
   },
   "file_extension": ".py",
   "mimetype": "text/x-python",
   "name": "python",
   "nbconvert_exporter": "python",
   "pygments_lexer": "ipython3",
   "version": "3.8.8"
  }
 },
 "nbformat": 4,
 "nbformat_minor": 5
}
